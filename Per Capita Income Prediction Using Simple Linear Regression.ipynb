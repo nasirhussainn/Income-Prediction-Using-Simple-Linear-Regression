{
 "cells": [
  {
   "cell_type": "markdown",
   "id": "080aa7d9",
   "metadata": {},
   "source": [
    "***Canada per Capita Income Prediction Yearly***"
   ]
  },
  {
   "cell_type": "code",
   "execution_count": 1,
   "id": "3449885e",
   "metadata": {},
   "outputs": [],
   "source": [
    "import pandas as pd\n",
    "import numpy as np\n",
    "from sklearn import linear_model\n",
    "import matplotlib.pyplot as plt"
   ]
  },
  {
   "cell_type": "markdown",
   "id": "34fb6f6f",
   "metadata": {},
   "source": [
    "**Reading data from csv file**"
   ]
  },
  {
   "cell_type": "code",
   "execution_count": 2,
   "id": "2b261c61",
   "metadata": {
    "scrolled": true
   },
   "outputs": [
    {
     "data": {
      "text/html": [
       "<div>\n",
       "<style scoped>\n",
       "    .dataframe tbody tr th:only-of-type {\n",
       "        vertical-align: middle;\n",
       "    }\n",
       "\n",
       "    .dataframe tbody tr th {\n",
       "        vertical-align: top;\n",
       "    }\n",
       "\n",
       "    .dataframe thead th {\n",
       "        text-align: right;\n",
       "    }\n",
       "</style>\n",
       "<table border=\"1\" class=\"dataframe\">\n",
       "  <thead>\n",
       "    <tr style=\"text-align: right;\">\n",
       "      <th></th>\n",
       "      <th>year</th>\n",
       "      <th>income_per_capita</th>\n",
       "    </tr>\n",
       "  </thead>\n",
       "  <tbody>\n",
       "    <tr>\n",
       "      <th>0</th>\n",
       "      <td>1970</td>\n",
       "      <td>3399.299037</td>\n",
       "    </tr>\n",
       "    <tr>\n",
       "      <th>1</th>\n",
       "      <td>1971</td>\n",
       "      <td>3768.297935</td>\n",
       "    </tr>\n",
       "    <tr>\n",
       "      <th>2</th>\n",
       "      <td>1972</td>\n",
       "      <td>4251.175484</td>\n",
       "    </tr>\n",
       "    <tr>\n",
       "      <th>3</th>\n",
       "      <td>1973</td>\n",
       "      <td>4804.463248</td>\n",
       "    </tr>\n",
       "    <tr>\n",
       "      <th>4</th>\n",
       "      <td>1974</td>\n",
       "      <td>5576.514583</td>\n",
       "    </tr>\n",
       "    <tr>\n",
       "      <th>5</th>\n",
       "      <td>1975</td>\n",
       "      <td>5998.144346</td>\n",
       "    </tr>\n",
       "    <tr>\n",
       "      <th>6</th>\n",
       "      <td>1976</td>\n",
       "      <td>7062.131392</td>\n",
       "    </tr>\n",
       "    <tr>\n",
       "      <th>7</th>\n",
       "      <td>1977</td>\n",
       "      <td>7100.126170</td>\n",
       "    </tr>\n",
       "    <tr>\n",
       "      <th>8</th>\n",
       "      <td>1978</td>\n",
       "      <td>7247.967035</td>\n",
       "    </tr>\n",
       "    <tr>\n",
       "      <th>9</th>\n",
       "      <td>1979</td>\n",
       "      <td>7602.912681</td>\n",
       "    </tr>\n",
       "  </tbody>\n",
       "</table>\n",
       "</div>"
      ],
      "text/plain": [
       "   year  income_per_capita\n",
       "0  1970        3399.299037\n",
       "1  1971        3768.297935\n",
       "2  1972        4251.175484\n",
       "3  1973        4804.463248\n",
       "4  1974        5576.514583\n",
       "5  1975        5998.144346\n",
       "6  1976        7062.131392\n",
       "7  1977        7100.126170\n",
       "8  1978        7247.967035\n",
       "9  1979        7602.912681"
      ]
     },
     "execution_count": 2,
     "metadata": {},
     "output_type": "execute_result"
    }
   ],
   "source": [
    "df=pd.read_csv(\"canada_per_capita_income.csv\")\n",
    "df.head(10)"
   ]
  },
  {
   "cell_type": "markdown",
   "id": "23143cad",
   "metadata": {},
   "source": [
    "**Now using scatter plot to plot per_capita_income over year***"
   ]
  },
  {
   "cell_type": "code",
   "execution_count": 3,
   "id": "27e2cd9b",
   "metadata": {},
   "outputs": [
    {
     "data": {
      "text/plain": [
       "<matplotlib.collections.PathCollection at 0x22b1f262650>"
      ]
     },
     "execution_count": 3,
     "metadata": {},
     "output_type": "execute_result"
    },
    {
     "data": {
      "image/png": "[encoded data removed]",
      "text/plain": [
       "<Figure size 640x480 with 1 Axes>"
      ]
     },
     "metadata": {},
     "output_type": "display_data"
    }
   ],
   "source": [
    "%matplotlib inline\n",
    "plt.scatter(df[\"year\"],df[\"income_per_capita\"], color=\"red\", marker=\"+\")"
   ]
  },
  {
   "cell_type": "markdown",
   "id": "5a10c033",
   "metadata": {},
   "source": [
    "**Now we will use Regression Model**"
   ]
  },
  {
   "cell_type": "code",
   "execution_count": 4,
   "id": "632378da",
   "metadata": {},
   "outputs": [
    {
     "data": {
      "text/html": [
       "<style>#sk-container-id-1 {color: black;background-color: white;}#sk-container-id-1 pre{padding: 0;}#sk-container-id-1 div.sk-toggleable {background-color: white;}#sk-container-id-1 label.sk-toggleable__label {cursor: pointer;display: block;width: 100%;margin-bottom: 0;padding: 0.3em;box-sizing: border-box;text-align: center;}#sk-container-id-1 label.sk-toggleable__label-arrow:before {content: \"▸\";float: left;margin-right: 0.25em;color: #696969;}#sk-container-id-1 label.sk-toggleable__label-arrow:hover:before {color: black;}#sk-container-id-1 div.sk-estimator:hover label.sk-toggleable__label-arrow:before {color: black;}#sk-container-id-1 div.sk-toggleable__content {max-height: 0;max-width: 0;overflow: hidden;text-align: left;background-color: #f0f8ff;}#sk-container-id-1 div.sk-toggleable__content pre {margin: 0.2em;color: black;border-radius: 0.25em;background-color: #f0f8ff;}#sk-container-id-1 input.sk-toggleable__control:checked~div.sk-toggleable__content {max-height: 200px;max-width: 100%;overflow: auto;}#sk-container-id-1 input.sk-toggleable__control:checked~label.sk-toggleable__label-arrow:before {content: \"▾\";}#sk-container-id-1 div.sk-estimator input.sk-toggleable__control:checked~label.sk-toggleable__label {background-color: #d4ebff;}#sk-container-id-1 div.sk-label input.sk-toggleable__control:checked~label.sk-toggleable__label {background-color: #d4ebff;}#sk-container-id-1 input.sk-hidden--visually {border: 0;clip: rect(1px 1px 1px 1px);clip: rect(1px, 1px, 1px, 1px);height: 1px;margin: -1px;overflow: hidden;padding: 0;position: absolute;width: 1px;}#sk-container-id-1 div.sk-estimator {font-family: monospace;background-color: #f0f8ff;border: 1px dotted black;border-radius: 0.25em;box-sizing: border-box;margin-bottom: 0.5em;}#sk-container-id-1 div.sk-estimator:hover {background-color: #d4ebff;}#sk-container-id-1 div.sk-parallel-item::after {content: \"\";width: 100%;border-bottom: 1px solid gray;flex-grow: 1;}#sk-container-id-1 div.sk-label:hover label.sk-toggleable__label {background-color: #d4ebff;}#sk-container-id-1 div.sk-serial::before {content: \"\";position: absolute;border-left: 1px solid gray;box-sizing: border-box;top: 0;bottom: 0;left: 50%;z-index: 0;}#sk-container-id-1 div.sk-serial {display: flex;flex-direction: column;align-items: center;background-color: white;padding-right: 0.2em;padding-left: 0.2em;position: relative;}#sk-container-id-1 div.sk-item {position: relative;z-index: 1;}#sk-container-id-1 div.sk-parallel {display: flex;align-items: stretch;justify-content: center;background-color: white;position: relative;}#sk-container-id-1 div.sk-item::before, #sk-container-id-1 div.sk-parallel-item::before {content: \"\";position: absolute;border-left: 1px solid gray;box-sizing: border-box;top: 0;bottom: 0;left: 50%;z-index: -1;}#sk-container-id-1 div.sk-parallel-item {display: flex;flex-direction: column;z-index: 1;position: relative;background-color: white;}#sk-container-id-1 div.sk-parallel-item:first-child::after {align-self: flex-end;width: 50%;}#sk-container-id-1 div.sk-parallel-item:last-child::after {align-self: flex-start;width: 50%;}#sk-container-id-1 div.sk-parallel-item:only-child::after {width: 0;}#sk-container-id-1 div.sk-dashed-wrapped {border: 1px dashed gray;margin: 0 0.4em 0.5em 0.4em;box-sizing: border-box;padding-bottom: 0.4em;background-color: white;}#sk-container-id-1 div.sk-label label {font-family: monospace;font-weight: bold;display: inline-block;line-height: 1.2em;}#sk-container-id-1 div.sk-label-container {text-align: center;}#sk-container-id-1 div.sk-container {/* jupyter's `normalize.less` sets `[hidden] { display: none; }` but bootstrap.min.css set `[hidden] { display: none !important; }` so we also need the `!important` here to be able to override the default hidden behavior on the sphinx rendered scikit-learn.org. See: https://github.com/scikit-learn/scikit-learn/issues/21755 */display: inline-block !important;position: relative;}#sk-container-id-1 div.sk-text-repr-fallback {display: none;}</style><div id=\"sk-container-id-1\" class=\"sk-top-container\"><div class=\"sk-text-repr-fallback\"><pre>LinearRegression()</pre><b>In a Jupyter environment, please rerun this cell to show the HTML representation or trust the notebook. <br />On GitHub, the HTML representation is unable to render, please try loading this page with nbviewer.org.</b></div><div class=\"sk-container\" hidden><div class=\"sk-item\"><div class=\"sk-estimator sk-toggleable\"><input class=\"sk-toggleable__control sk-hidden--visually\" id=\"sk-estimator-id-1\" type=\"checkbox\" checked><label for=\"sk-estimator-id-1\" class=\"sk-toggleable__label sk-toggleable__label-arrow\">LinearRegression</label><div class=\"sk-toggleable__content\"><pre>LinearRegression()</pre></div></div></div></div></div>"
      ],
      "text/plain": [
       "LinearRegression()"
      ]
     },
     "execution_count": 4,
     "metadata": {},
     "output_type": "execute_result"
    }
   ],
   "source": [
    "reg = linear_model.LinearRegression()\n",
    "reg.fit(df[['year']] , df.income_per_capita)"
   ]
  },
  {
   "cell_type": "markdown",
   "id": "f65795ac",
   "metadata": {},
   "source": [
    "**As we know that y=mx+b**"
   ]
  },
  {
   "cell_type": "markdown",
   "id": "1ddbba1a",
   "metadata": {},
   "source": [
    "**Where y is dependent variable in our case = per capita income (US$)**"
   ]
  },
  {
   "cell_type": "markdown",
   "id": "9d071a2c",
   "metadata": {},
   "source": [
    "**m is called coefficient (slope or gradient)**"
   ]
  },
  {
   "cell_type": "markdown",
   "id": "08463ff8",
   "metadata": {},
   "source": [
    "**x is independent variable = year**"
   ]
  },
  {
   "cell_type": "markdown",
   "id": "58cfb219",
   "metadata": {},
   "source": [
    "**b is called intercept**"
   ]
  },
  {
   "cell_type": "markdown",
   "id": "216ed953",
   "metadata": {},
   "source": [
    "***Let Print coef_ and intercept_ before prediction***"
   ]
  },
  {
   "cell_type": "code",
   "execution_count": 5,
   "id": "7ed356d8",
   "metadata": {},
   "outputs": [],
   "source": [
    "m=reg.coef_"
   ]
  },
  {
   "cell_type": "code",
   "execution_count": 6,
   "id": "b326b4a9",
   "metadata": {},
   "outputs": [],
   "source": [
    "b=reg.intercept_"
   ]
  },
  {
   "cell_type": "markdown",
   "id": "4bd45672",
   "metadata": {},
   "source": [
    "***Now Predting for the year of 2020 mathematically***"
   ]
  },
  {
   "cell_type": "code",
   "execution_count": 7,
   "id": "a2e40396",
   "metadata": {
    "scrolled": true
   },
   "outputs": [
    {
     "data": {
      "text/plain": [
       "array([41288.69409442])"
      ]
     },
     "execution_count": 7,
     "metadata": {},
     "output_type": "execute_result"
    }
   ],
   "source": [
    "income2020= (m*2020)+b\n",
    "income2020"
   ]
  },
  {
   "cell_type": "markdown",
   "id": "d1f84cd4",
   "metadata": {},
   "source": [
    "***Predicting for some years***"
   ]
  },
  {
   "cell_type": "code",
   "execution_count": 8,
   "id": "11b3be4f",
   "metadata": {},
   "outputs": [
    {
     "name": "stdout",
     "output_type": "stream",
     "text": [
      "[38803.29886875 39631.76394397 40460.22901919 41288.69409442\n",
      " 42117.15916964 42945.62424486 43774.08932009 44602.55439531\n",
      " 45431.01947053]\n"
     ]
    }
   ],
   "source": [
    "new_years = pd.DataFrame({'year': [2017,2018,2019,2020,2021,2022,2023,2024,2025]})\n",
    "predicted_income = reg.predict(new_years)\n",
    "\n",
    "print(predicted_income)"
   ]
  },
  {
   "cell_type": "markdown",
   "id": "7a73e29d",
   "metadata": {},
   "source": [
    "***Now making a complete scatter plot***"
   ]
  },
  {
   "cell_type": "code",
   "execution_count": 9,
   "id": "2bc7975b",
   "metadata": {},
   "outputs": [
    {
     "data": {
      "image/png": "[encoded data removed]",
      "text/plain": [
       "<Figure size 640x480 with 1 Axes>"
      ]
     },
     "metadata": {},
     "output_type": "display_data"
    }
   ],
   "source": [
    "%matplotlib inline\n",
    "plt.scatter(df[\"year\"],df[\"income_per_capita\"], color=\"red\", marker=\"+\")\n",
    "plt.plot(df.year,reg.predict(df[['year']]), color=\"green\")\n",
    "\n",
    "plt.xlabel(\"Years\")\n",
    "plt.ylabel(\"Income Per Capita (US$)\")\n",
    "plt.title(\"Canada Per Capita Income Predtion\")\n",
    "\n",
    "plt.grid(color=\"blue\", alpha=0.5, linestyle=\":\")"
   ]
  },
  {
   "cell_type": "markdown",
   "id": "219639f3",
   "metadata": {},
   "source": [
    "***Exporting a New CSV file containing the Predicted Income Per Capita of New Years***"
   ]
  },
  {
   "cell_type": "code",
   "execution_count": 10,
   "id": "df495d24",
   "metadata": {},
   "outputs": [],
   "source": [
    "income_per_capita =  pd.DataFrame({'income per capita':predicted_income})\n",
    "income_per_capita=income_per_capita.round(decimals=0).astype(int)"
   ]
  },
  {
   "cell_type": "code",
   "execution_count": 11,
   "id": "a48e24f8",
   "metadata": {},
   "outputs": [],
   "source": [
    "new_csv=pd.concat([new_years,income_per_capita], axis=1)"
   ]
  },
  {
   "cell_type": "code",
   "execution_count": 12,
   "id": "8bfdf8bb",
   "metadata": {},
   "outputs": [
    {
     "data": {
      "text/html": [
       "<div>\n",
       "<style scoped>\n",
       "    .dataframe tbody tr th:only-of-type {\n",
       "        vertical-align: middle;\n",
       "    }\n",
       "\n",
       "    .dataframe tbody tr th {\n",
       "        vertical-align: top;\n",
       "    }\n",
       "\n",
       "    .dataframe thead th {\n",
       "        text-align: right;\n",
       "    }\n",
       "</style>\n",
       "<table border=\"1\" class=\"dataframe\">\n",
       "  <thead>\n",
       "    <tr style=\"text-align: right;\">\n",
       "      <th></th>\n",
       "      <th>year</th>\n",
       "      <th>income per capita</th>\n",
       "    </tr>\n",
       "  </thead>\n",
       "  <tbody>\n",
       "    <tr>\n",
       "      <th>0</th>\n",
       "      <td>2017</td>\n",
       "      <td>38803</td>\n",
       "    </tr>\n",
       "    <tr>\n",
       "      <th>1</th>\n",
       "      <td>2018</td>\n",
       "      <td>39632</td>\n",
       "    </tr>\n",
       "    <tr>\n",
       "      <th>2</th>\n",
       "      <td>2019</td>\n",
       "      <td>40460</td>\n",
       "    </tr>\n",
       "    <tr>\n",
       "      <th>3</th>\n",
       "      <td>2020</td>\n",
       "      <td>41289</td>\n",
       "    </tr>\n",
       "    <tr>\n",
       "      <th>4</th>\n",
       "      <td>2021</td>\n",
       "      <td>42117</td>\n",
       "    </tr>\n",
       "    <tr>\n",
       "      <th>5</th>\n",
       "      <td>2022</td>\n",
       "      <td>42946</td>\n",
       "    </tr>\n",
       "    <tr>\n",
       "      <th>6</th>\n",
       "      <td>2023</td>\n",
       "      <td>43774</td>\n",
       "    </tr>\n",
       "    <tr>\n",
       "      <th>7</th>\n",
       "      <td>2024</td>\n",
       "      <td>44603</td>\n",
       "    </tr>\n",
       "    <tr>\n",
       "      <th>8</th>\n",
       "      <td>2025</td>\n",
       "      <td>45431</td>\n",
       "    </tr>\n",
       "  </tbody>\n",
       "</table>\n",
       "</div>"
      ],
      "text/plain": [
       "   year  income per capita\n",
       "0  2017              38803\n",
       "1  2018              39632\n",
       "2  2019              40460\n",
       "3  2020              41289\n",
       "4  2021              42117\n",
       "5  2022              42946\n",
       "6  2023              43774\n",
       "7  2024              44603\n",
       "8  2025              45431"
      ]
     },
     "execution_count": 12,
     "metadata": {},
     "output_type": "execute_result"
    }
   ],
   "source": [
    "new_csv"
   ]
  },
  {
   "cell_type": "code",
   "execution_count": 13,
   "id": "96d15b60",
   "metadata": {},
   "outputs": [],
   "source": [
    "new_csv.to_csv(\"New Years Income Prediction Per Capita Canada\")"
   ]
  },
  {
   "cell_type": "code",
   "execution_count": 14,
   "id": "5bc7058c",
   "metadata": {},
   "outputs": [
    {
     "data": {
      "text/html": [
       "<div>\n",
       "<style scoped>\n",
       "    .dataframe tbody tr th:only-of-type {\n",
       "        vertical-align: middle;\n",
       "    }\n",
       "\n",
       "    .dataframe tbody tr th {\n",
       "        vertical-align: top;\n",
       "    }\n",
       "\n",
       "    .dataframe thead th {\n",
       "        text-align: right;\n",
       "    }\n",
       "</style>\n",
       "<table border=\"1\" class=\"dataframe\">\n",
       "  <thead>\n",
       "    <tr style=\"text-align: right;\">\n",
       "      <th></th>\n",
       "      <th>Unnamed: 0</th>\n",
       "      <th>year</th>\n",
       "      <th>income per capita</th>\n",
       "    </tr>\n",
       "  </thead>\n",
       "  <tbody>\n",
       "    <tr>\n",
       "      <th>0</th>\n",
       "      <td>0</td>\n",
       "      <td>2017</td>\n",
       "      <td>38803</td>\n",
       "    </tr>\n",
       "    <tr>\n",
       "      <th>1</th>\n",
       "      <td>1</td>\n",
       "      <td>2018</td>\n",
       "      <td>39632</td>\n",
       "    </tr>\n",
       "    <tr>\n",
       "      <th>2</th>\n",
       "      <td>2</td>\n",
       "      <td>2019</td>\n",
       "      <td>40460</td>\n",
       "    </tr>\n",
       "    <tr>\n",
       "      <th>3</th>\n",
       "      <td>3</td>\n",
       "      <td>2020</td>\n",
       "      <td>41289</td>\n",
       "    </tr>\n",
       "    <tr>\n",
       "      <th>4</th>\n",
       "      <td>4</td>\n",
       "      <td>2021</td>\n",
       "      <td>42117</td>\n",
       "    </tr>\n",
       "    <tr>\n",
       "      <th>5</th>\n",
       "      <td>5</td>\n",
       "      <td>2022</td>\n",
       "      <td>42946</td>\n",
       "    </tr>\n",
       "    <tr>\n",
       "      <th>6</th>\n",
       "      <td>6</td>\n",
       "      <td>2023</td>\n",
       "      <td>43774</td>\n",
       "    </tr>\n",
       "    <tr>\n",
       "      <th>7</th>\n",
       "      <td>7</td>\n",
       "      <td>2024</td>\n",
       "      <td>44603</td>\n",
       "    </tr>\n",
       "    <tr>\n",
       "      <th>8</th>\n",
       "      <td>8</td>\n",
       "      <td>2025</td>\n",
       "      <td>45431</td>\n",
       "    </tr>\n",
       "  </tbody>\n",
       "</table>\n",
       "</div>"
      ],
      "text/plain": [
       "   Unnamed: 0  year  income per capita\n",
       "0           0  2017              38803\n",
       "1           1  2018              39632\n",
       "2           2  2019              40460\n",
       "3           3  2020              41289\n",
       "4           4  2021              42117\n",
       "5           5  2022              42946\n",
       "6           6  2023              43774\n",
       "7           7  2024              44603\n",
       "8           8  2025              45431"
      ]
     },
     "execution_count": 14,
     "metadata": {},
     "output_type": "execute_result"
    }
   ],
   "source": [
    "df=pd.read_csv(\"New Years Income Prediction Per Capita Canada\")\n",
    "df"
   ]
  },
  {
   "cell_type": "markdown",
   "id": "aa81ad48",
   "metadata": {},
   "source": [
    "***Note***"
   ]
  },
  {
   "cell_type": "markdown",
   "id": "75108da9",
   "metadata": {},
   "source": [
    "**This is the basic tutorial of simple linear regression**"
   ]
  },
  {
   "cell_type": "markdown",
   "id": "4608c655",
   "metadata": {},
   "source": [
    "**In this we have not minimize the error as we have to minimize MSE for better prediction**"
   ]
  },
  {
   "cell_type": "markdown",
   "id": "0b4b5de8",
   "metadata": {},
   "source": [
    "**Anyone can easily determine by predicting the income of the trained data year e.g for 1975 so we can see that the actual income and predicted income are not same. So this is not the well trained model for predicting income. More advance topic will cover later to produce a good model for prediction**"
   ]
  },
  {
   "cell_type": "markdown",
   "id": "67abd531",
   "metadata": {},
   "source": [
    "***---------------------------------------------------------------------------------------------------------------------------------------***"
   ]
  },
  {
   "cell_type": "markdown",
   "id": "60350ce0",
   "metadata": {},
   "source": [
    "***Saving Model Using sklearn and pickle***"
   ]
  },
  {
   "cell_type": "markdown",
   "id": "06116d38",
   "metadata": {},
   "source": [
    "**1 - Pickle**"
   ]
  },
  {
   "cell_type": "code",
   "execution_count": 15,
   "id": "da476cdf",
   "metadata": {},
   "outputs": [],
   "source": [
    "import pickle"
   ]
  },
  {
   "cell_type": "markdown",
   "id": "dc8bc299",
   "metadata": {},
   "source": [
    "**Saving Model** "
   ]
  },
  {
   "cell_type": "markdown",
   "id": "7e96fe58",
   "metadata": {},
   "source": [
    "*As our model is `reg`, which we use for prediction so we are using this to save*"
   ]
  },
  {
   "cell_type": "code",
   "execution_count": 24,
   "id": "eb5b3a66",
   "metadata": {},
   "outputs": [],
   "source": [
    "with open ('pickle_model','wb') as f:\n",
    "    pickle.dump(reg,f)"
   ]
  },
  {
   "cell_type": "markdown",
   "id": "b4d740f8",
   "metadata": {},
   "source": [
    "**Importing Model to use**"
   ]
  },
  {
   "cell_type": "code",
   "execution_count": 25,
   "id": "f7260358",
   "metadata": {},
   "outputs": [],
   "source": [
    "with open('pickle_model','rb') as f:\n",
    "    mp=pickle.load(f)"
   ]
  },
  {
   "cell_type": "code",
   "execution_count": 26,
   "id": "da38b1b5",
   "metadata": {},
   "outputs": [],
   "source": [
    "n = pd.DataFrame({'year': [1979]})"
   ]
  },
  {
   "cell_type": "code",
   "execution_count": 27,
   "id": "6ae67eb8",
   "metadata": {},
   "outputs": [
    {
     "data": {
      "text/plain": [
       "array([7321.62601029])"
      ]
     },
     "execution_count": 27,
     "metadata": {},
     "output_type": "execute_result"
    }
   ],
   "source": [
    "mp.predict(n)"
   ]
  },
  {
   "cell_type": "markdown",
   "id": "e9b57bb1",
   "metadata": {},
   "source": [
    "***2 - Sklearn***"
   ]
  },
  {
   "cell_type": "code",
   "execution_count": 28,
   "id": "7b5d66a1",
   "metadata": {},
   "outputs": [],
   "source": [
    "import joblib"
   ]
  },
  {
   "cell_type": "code",
   "execution_count": 31,
   "id": "04dac3ec",
   "metadata": {},
   "outputs": [
    {
     "data": {
      "text/plain": [
       "['model_jl']"
      ]
     },
     "execution_count": 31,
     "metadata": {},
     "output_type": "execute_result"
    }
   ],
   "source": [
    "joblib.dump(reg,'model_jl')"
   ]
  },
  {
   "cell_type": "markdown",
   "id": "487ba2ee",
   "metadata": {},
   "source": [
    "***Loading Model***"
   ]
  },
  {
   "cell_type": "code",
   "execution_count": 32,
   "id": "d256048b",
   "metadata": {},
   "outputs": [],
   "source": [
    "mj=joblib.load('model_jl')"
   ]
  },
  {
   "cell_type": "code",
   "execution_count": 34,
   "id": "01afc724",
   "metadata": {},
   "outputs": [
    {
     "data": {
      "text/plain": [
       "array([828.46507522])"
      ]
     },
     "execution_count": 34,
     "metadata": {},
     "output_type": "execute_result"
    }
   ],
   "source": [
    "mj.coef_"
   ]
  },
  {
   "cell_type": "code",
   "execution_count": 38,
   "id": "fead07b1",
   "metadata": {},
   "outputs": [
    {
     "name": "stderr",
     "output_type": "stream",
     "text": [
      "C:\\Python310\\lib\\site-packages\\sklearn\\base.py:439: UserWarning: X does not have valid feature names, but LinearRegression was fitted with feature names\n",
      "  warnings.warn(\n"
     ]
    },
    {
     "data": {
      "text/plain": [
       "array([7321.62601029])"
      ]
     },
     "execution_count": 38,
     "metadata": {},
     "output_type": "execute_result"
    }
   ],
   "source": [
    "mj.predict([[1979]])"
   ]
  },
  {
   "cell_type": "code",
   "execution_count": null,
   "id": "668f5422",
   "metadata": {},
   "outputs": [],
   "source": []
  }
 ],
 "metadata": {
  "kernelspec": {
   "display_name": "Python 3 (ipykernel)",
   "language": "python",
   "name": "python3"
  },
  "language_info": {
   "codemirror_mode": {
    "name": "ipython",
    "version": 3
   },
   "file_extension": ".py",
   "mimetype": "text/x-python",
   "name": "python",
   "nbconvert_exporter": "python",
   "pygments_lexer": "ipython3",
   "version": "3.10.8"
  }
 },
 "nbformat": 4,
 "nbformat_minor": 5
}
